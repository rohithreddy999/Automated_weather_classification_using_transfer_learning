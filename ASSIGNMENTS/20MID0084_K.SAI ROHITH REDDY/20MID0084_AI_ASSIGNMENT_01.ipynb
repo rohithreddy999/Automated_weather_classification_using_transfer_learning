{
  "nbformat": 4,
  "nbformat_minor": 0,
  "metadata": {
    "colab": {
      "provenance": []
    },
    "kernelspec": {
      "name": "python3",
      "display_name": "Python 3"
    },
    "language_info": {
      "name": "python"
    }
  },
  "cells": [
    {
      "cell_type": "markdown",
      "source": [
        "# **AI ASSIGNMENT-01**\n",
        "# **NAME:K.SAI ROHITH REDDY**\n",
        "\n",
        "#**REGNO:20MID0084**\n",
        "\n",
        "#**COLLEGE:VIT VELLORE**\n",
        "\n",
        "#**EMAIL:sairohith.reddyk2020@vitstudent.ac.in**"
      ],
      "metadata": {
        "id": "NyNyX-Mw1OQD"
      }
    },
    {
      "cell_type": "markdown",
      "source": [
        "#IMPORTING REQUIRED LIBRARIES"
      ],
      "metadata": {
        "id": "eyxQI_P_6afe"
      }
    },
    {
      "cell_type": "code",
      "execution_count": null,
      "metadata": {
        "id": "4ZBGSW_z1Bvi"
      },
      "outputs": [],
      "source": [
        "import pandas as pd\n",
        "import numpy as np"
      ]
    },
    {
      "cell_type": "markdown",
      "source": [
        "## TASK-01: Create a pandas dataframe (DataFrame name as 'df') with numpy random values (4 features and 4 observation)"
      ],
      "metadata": {
        "id": "oJEQTAqv6k9-"
      }
    },
    {
      "cell_type": "code",
      "source": [
        "# Setting the random.seed\n",
        "np.random.seed(51)\n",
        "# Create random values\n",
        "data=np.random.rand(4,4)"
      ],
      "metadata": {
        "id": "kfuIgq1B1vhf"
      },
      "execution_count": null,
      "outputs": []
    },
    {
      "cell_type": "code",
      "source": [
        "print(data)"
      ],
      "metadata": {
        "colab": {
          "base_uri": "https://localhost:8080/"
        },
        "id": "MrljdmHL12ms",
        "outputId": "a73c9a08-3dc6-4c50-9d6a-12ff5557be27"
      },
      "execution_count": null,
      "outputs": [
        {
          "output_type": "stream",
          "name": "stdout",
          "text": [
            "[[0.67573142 0.04471218 0.34330367 0.64401973]\n",
            " [0.284213   0.94933781 0.15767017 0.38797296]\n",
            " [0.58999368 0.48779579 0.17434339 0.21818256]\n",
            " [0.64674554 0.24983141 0.41024799 0.04772578]]\n"
          ]
        }
      ]
    },
    {
      "cell_type": "code",
      "source": [
        "#Create the DataFrame\n",
        "df=pd.DataFrame(data,columns=[\"Feature_1\",\"Feature_2\",\"Feature_3\",\"Feature_4\"])"
      ],
      "metadata": {
        "id": "k-T7200F12ib"
      },
      "execution_count": null,
      "outputs": []
    },
    {
      "cell_type": "code",
      "source": [
        "print(df)"
      ],
      "metadata": {
        "colab": {
          "base_uri": "https://localhost:8080/"
        },
        "id": "-j1QOoeo12gc",
        "outputId": "f614882f-e18e-4257-daf9-1698876712b1"
      },
      "execution_count": null,
      "outputs": [
        {
          "output_type": "stream",
          "name": "stdout",
          "text": [
            "   Feature_1  Feature_2  Feature_3  Feature_4\n",
            "0   0.675731   0.044712   0.343304   0.644020\n",
            "1   0.284213   0.949338   0.157670   0.387973\n",
            "2   0.589994   0.487796   0.174343   0.218183\n",
            "3   0.646746   0.249831   0.410248   0.047726\n"
          ]
        }
      ]
    },
    {
      "cell_type": "markdown",
      "source": [
        "## TASK-02: Rename the task - 1 'df' dataframe column names to 'Random value 1', 'Random value 2', 'Random value 3' & 'Random value 4"
      ],
      "metadata": {
        "id": "csaVYLk37ttV"
      }
    },
    {
      "cell_type": "code",
      "source": [
        "df.rename(columns={'Feature_1': 'Random value 1', 'Feature_2': 'Random value 2',\n",
        "                   'Feature_3': 'Random value 3', 'Feature_4': 'Random value 4'},\n",
        "          inplace=True)\n"
      ],
      "metadata": {
        "id": "Xa9uXXXJ12d0"
      },
      "execution_count": null,
      "outputs": []
    },
    {
      "cell_type": "code",
      "source": [
        "print(df)"
      ],
      "metadata": {
        "colab": {
          "base_uri": "https://localhost:8080/"
        },
        "id": "udwUsHiz3Bct",
        "outputId": "d0dc02e1-e6ee-4d8e-c606-cce7cefaf52b"
      },
      "execution_count": null,
      "outputs": [
        {
          "output_type": "stream",
          "name": "stdout",
          "text": [
            "   Random value 1  Random value 2  Random value 3  Random value 4\n",
            "0        0.675731        0.044712        0.343304        0.644020\n",
            "1        0.284213        0.949338        0.157670        0.387973\n",
            "2        0.589994        0.487796        0.174343        0.218183\n",
            "3        0.646746        0.249831        0.410248        0.047726\n"
          ]
        }
      ]
    },
    {
      "cell_type": "markdown",
      "source": [
        "## TASK-03: Find the descriptive statistics of the 'df' dataframe."
      ],
      "metadata": {
        "id": "XUrzlC0a78tn"
      }
    },
    {
      "cell_type": "code",
      "source": [
        "df.info()"
      ],
      "metadata": {
        "colab": {
          "base_uri": "https://localhost:8080/"
        },
        "id": "OHyDMzHy36fU",
        "outputId": "071fab3b-ae47-4d7e-94cc-aac19f5cd967"
      },
      "execution_count": null,
      "outputs": [
        {
          "output_type": "stream",
          "name": "stdout",
          "text": [
            "<class 'pandas.core.frame.DataFrame'>\n",
            "RangeIndex: 4 entries, 0 to 3\n",
            "Data columns (total 4 columns):\n",
            " #   Column          Non-Null Count  Dtype  \n",
            "---  ------          --------------  -----  \n",
            " 0   Random value 1  4 non-null      float64\n",
            " 1   Random value 2  4 non-null      float64\n",
            " 2   Random value 3  4 non-null      float64\n",
            " 3   Random value 4  4 non-null      float64\n",
            "dtypes: float64(4)\n",
            "memory usage: 256.0 bytes\n"
          ]
        }
      ]
    },
    {
      "cell_type": "code",
      "source": [
        "# Display descriptive statistics\n",
        "df.describe(include=\"all\")"
      ],
      "metadata": {
        "colab": {
          "base_uri": "https://localhost:8080/",
          "height": 300
        },
        "id": "yIU-4EoG36bw",
        "outputId": "0b56a405-1039-4216-ac81-c4c8840f9522"
      },
      "execution_count": null,
      "outputs": [
        {
          "output_type": "execute_result",
          "data": {
            "text/plain": [
              "       Random value 1  Random value 2  Random value 3  Random value 4\n",
              "count        4.000000        4.000000        4.000000        4.000000\n",
              "mean         0.549171        0.432919        0.271391        0.324475\n",
              "std          0.180192        0.388984        0.124904        0.254315\n",
              "min          0.284213        0.044712        0.157670        0.047726\n",
              "25%          0.513549        0.198552        0.170175        0.175568\n",
              "50%          0.618370        0.368814        0.258824        0.303078\n",
              "75%          0.653992        0.603181        0.360040        0.451985\n",
              "max          0.675731        0.949338        0.410248        0.644020"
            ],
            "text/html": [
              "\n",
              "  <div id=\"df-d700b2b3-7948-4b58-a6e1-ad62a7ee10c8\">\n",
              "    <div class=\"colab-df-container\">\n",
              "      <div>\n",
              "<style scoped>\n",
              "    .dataframe tbody tr th:only-of-type {\n",
              "        vertical-align: middle;\n",
              "    }\n",
              "\n",
              "    .dataframe tbody tr th {\n",
              "        vertical-align: top;\n",
              "    }\n",
              "\n",
              "    .dataframe thead th {\n",
              "        text-align: right;\n",
              "    }\n",
              "</style>\n",
              "<table border=\"1\" class=\"dataframe\">\n",
              "  <thead>\n",
              "    <tr style=\"text-align: right;\">\n",
              "      <th></th>\n",
              "      <th>Random value 1</th>\n",
              "      <th>Random value 2</th>\n",
              "      <th>Random value 3</th>\n",
              "      <th>Random value 4</th>\n",
              "    </tr>\n",
              "  </thead>\n",
              "  <tbody>\n",
              "    <tr>\n",
              "      <th>count</th>\n",
              "      <td>4.000000</td>\n",
              "      <td>4.000000</td>\n",
              "      <td>4.000000</td>\n",
              "      <td>4.000000</td>\n",
              "    </tr>\n",
              "    <tr>\n",
              "      <th>mean</th>\n",
              "      <td>0.549171</td>\n",
              "      <td>0.432919</td>\n",
              "      <td>0.271391</td>\n",
              "      <td>0.324475</td>\n",
              "    </tr>\n",
              "    <tr>\n",
              "      <th>std</th>\n",
              "      <td>0.180192</td>\n",
              "      <td>0.388984</td>\n",
              "      <td>0.124904</td>\n",
              "      <td>0.254315</td>\n",
              "    </tr>\n",
              "    <tr>\n",
              "      <th>min</th>\n",
              "      <td>0.284213</td>\n",
              "      <td>0.044712</td>\n",
              "      <td>0.157670</td>\n",
              "      <td>0.047726</td>\n",
              "    </tr>\n",
              "    <tr>\n",
              "      <th>25%</th>\n",
              "      <td>0.513549</td>\n",
              "      <td>0.198552</td>\n",
              "      <td>0.170175</td>\n",
              "      <td>0.175568</td>\n",
              "    </tr>\n",
              "    <tr>\n",
              "      <th>50%</th>\n",
              "      <td>0.618370</td>\n",
              "      <td>0.368814</td>\n",
              "      <td>0.258824</td>\n",
              "      <td>0.303078</td>\n",
              "    </tr>\n",
              "    <tr>\n",
              "      <th>75%</th>\n",
              "      <td>0.653992</td>\n",
              "      <td>0.603181</td>\n",
              "      <td>0.360040</td>\n",
              "      <td>0.451985</td>\n",
              "    </tr>\n",
              "    <tr>\n",
              "      <th>max</th>\n",
              "      <td>0.675731</td>\n",
              "      <td>0.949338</td>\n",
              "      <td>0.410248</td>\n",
              "      <td>0.644020</td>\n",
              "    </tr>\n",
              "  </tbody>\n",
              "</table>\n",
              "</div>\n",
              "      <button class=\"colab-df-convert\" onclick=\"convertToInteractive('df-d700b2b3-7948-4b58-a6e1-ad62a7ee10c8')\"\n",
              "              title=\"Convert this dataframe to an interactive table.\"\n",
              "              style=\"display:none;\">\n",
              "        \n",
              "  <svg xmlns=\"http://www.w3.org/2000/svg\" height=\"24px\"viewBox=\"0 0 24 24\"\n",
              "       width=\"24px\">\n",
              "    <path d=\"M0 0h24v24H0V0z\" fill=\"none\"/>\n",
              "    <path d=\"M18.56 5.44l.94 2.06.94-2.06 2.06-.94-2.06-.94-.94-2.06-.94 2.06-2.06.94zm-11 1L8.5 8.5l.94-2.06 2.06-.94-2.06-.94L8.5 2.5l-.94 2.06-2.06.94zm10 10l.94 2.06.94-2.06 2.06-.94-2.06-.94-.94-2.06-.94 2.06-2.06.94z\"/><path d=\"M17.41 7.96l-1.37-1.37c-.4-.4-.92-.59-1.43-.59-.52 0-1.04.2-1.43.59L10.3 9.45l-7.72 7.72c-.78.78-.78 2.05 0 2.83L4 21.41c.39.39.9.59 1.41.59.51 0 1.02-.2 1.41-.59l7.78-7.78 2.81-2.81c.8-.78.8-2.07 0-2.86zM5.41 20L4 18.59l7.72-7.72 1.47 1.35L5.41 20z\"/>\n",
              "  </svg>\n",
              "      </button>\n",
              "      \n",
              "  <style>\n",
              "    .colab-df-container {\n",
              "      display:flex;\n",
              "      flex-wrap:wrap;\n",
              "      gap: 12px;\n",
              "    }\n",
              "\n",
              "    .colab-df-convert {\n",
              "      background-color: #E8F0FE;\n",
              "      border: none;\n",
              "      border-radius: 50%;\n",
              "      cursor: pointer;\n",
              "      display: none;\n",
              "      fill: #1967D2;\n",
              "      height: 32px;\n",
              "      padding: 0 0 0 0;\n",
              "      width: 32px;\n",
              "    }\n",
              "\n",
              "    .colab-df-convert:hover {\n",
              "      background-color: #E2EBFA;\n",
              "      box-shadow: 0px 1px 2px rgba(60, 64, 67, 0.3), 0px 1px 3px 1px rgba(60, 64, 67, 0.15);\n",
              "      fill: #174EA6;\n",
              "    }\n",
              "\n",
              "    [theme=dark] .colab-df-convert {\n",
              "      background-color: #3B4455;\n",
              "      fill: #D2E3FC;\n",
              "    }\n",
              "\n",
              "    [theme=dark] .colab-df-convert:hover {\n",
              "      background-color: #434B5C;\n",
              "      box-shadow: 0px 1px 3px 1px rgba(0, 0, 0, 0.15);\n",
              "      filter: drop-shadow(0px 1px 2px rgba(0, 0, 0, 0.3));\n",
              "      fill: #FFFFFF;\n",
              "    }\n",
              "  </style>\n",
              "\n",
              "      <script>\n",
              "        const buttonEl =\n",
              "          document.querySelector('#df-d700b2b3-7948-4b58-a6e1-ad62a7ee10c8 button.colab-df-convert');\n",
              "        buttonEl.style.display =\n",
              "          google.colab.kernel.accessAllowed ? 'block' : 'none';\n",
              "\n",
              "        async function convertToInteractive(key) {\n",
              "          const element = document.querySelector('#df-d700b2b3-7948-4b58-a6e1-ad62a7ee10c8');\n",
              "          const dataTable =\n",
              "            await google.colab.kernel.invokeFunction('convertToInteractive',\n",
              "                                                     [key], {});\n",
              "          if (!dataTable) return;\n",
              "\n",
              "          const docLinkHtml = 'Like what you see? Visit the ' +\n",
              "            '<a target=\"_blank\" href=https://colab.research.google.com/notebooks/data_table.ipynb>data table notebook</a>'\n",
              "            + ' to learn more about interactive tables.';\n",
              "          element.innerHTML = '';\n",
              "          dataTable['output_type'] = 'display_data';\n",
              "          await google.colab.output.renderOutput(dataTable, element);\n",
              "          const docLink = document.createElement('div');\n",
              "          docLink.innerHTML = docLinkHtml;\n",
              "          element.appendChild(docLink);\n",
              "        }\n",
              "      </script>\n",
              "    </div>\n",
              "  </div>\n",
              "  "
            ]
          },
          "metadata": {},
          "execution_count": 51
        }
      ]
    },
    {
      "cell_type": "markdown",
      "source": [
        "## TASK-04: Check for the null values in 'df' and find the data type of the columns"
      ],
      "metadata": {
        "id": "8D4Rdlf4-c4w"
      }
    },
    {
      "cell_type": "code",
      "source": [
        "#finding the missing_Values\n",
        "null_values=df.isnull().sum()\n",
        "print(null_values)"
      ],
      "metadata": {
        "colab": {
          "base_uri": "https://localhost:8080/"
        },
        "id": "i9H8s6qM36Zx",
        "outputId": "72f67f90-22c9-4115-d764-6f86c796045e"
      },
      "execution_count": null,
      "outputs": [
        {
          "output_type": "stream",
          "name": "stdout",
          "text": [
            "Random value 1    0\n",
            "Random value 2    0\n",
            "Random value 3    0\n",
            "Random value 4    0\n",
            "dtype: int64\n"
          ]
        }
      ]
    },
    {
      "cell_type": "code",
      "source": [
        "#checking duplicate_values\n",
        "df.duplicated().sum()"
      ],
      "metadata": {
        "colab": {
          "base_uri": "https://localhost:8080/"
        },
        "id": "qLE4M3mI4jXl",
        "outputId": "af1a5f80-c5fc-4eb7-bb4e-9a0f3d3b57e9"
      },
      "execution_count": null,
      "outputs": [
        {
          "output_type": "execute_result",
          "data": {
            "text/plain": [
              "0"
            ]
          },
          "metadata": {},
          "execution_count": 53
        }
      ]
    },
    {
      "cell_type": "code",
      "source": [
        "# Find data types of columns\n",
        "data_types = df.dtypes\n",
        "print(data_types)"
      ],
      "metadata": {
        "colab": {
          "base_uri": "https://localhost:8080/"
        },
        "id": "gHRzOZEH36WB",
        "outputId": "f4d09d81-22cb-4d81-961c-146e5ad163ab"
      },
      "execution_count": null,
      "outputs": [
        {
          "output_type": "stream",
          "name": "stdout",
          "text": [
            "Random value 1    float64\n",
            "Random value 2    float64\n",
            "Random value 3    float64\n",
            "Random value 4    float64\n",
            "dtype: object\n"
          ]
        }
      ]
    },
    {
      "cell_type": "markdown",
      "source": [
        "## TASK-05: Display the 'Random value 2' & 'Random value 3' columns with location method and index location method"
      ],
      "metadata": {
        "id": "exCtZA63-11T"
      }
    },
    {
      "cell_type": "code",
      "source": [
        "location_method_columns = df.loc[:, ['Random value 2', 'Random value 3']]\n",
        "print(\"Columns using location method:\\n\", location_method_columns)"
      ],
      "metadata": {
        "colab": {
          "base_uri": "https://localhost:8080/"
        },
        "id": "8N44CCWC5_F-",
        "outputId": "e331622d-858c-4725-dcc9-dcc132d0a240"
      },
      "execution_count": null,
      "outputs": [
        {
          "output_type": "stream",
          "name": "stdout",
          "text": [
            "Columns using location method:\n",
            "    Random value 2  Random value 3\n",
            "0        0.044712        0.343304\n",
            "1        0.949338        0.157670\n",
            "2        0.487796        0.174343\n",
            "3        0.249831        0.410248\n"
          ]
        }
      ]
    },
    {
      "cell_type": "code",
      "source": [
        "index_location_method_columns=df.iloc[:,1:3]\n",
        "print(\"Columns using index location method:\\n\",index_location_method_columns)"
      ],
      "metadata": {
        "colab": {
          "base_uri": "https://localhost:8080/"
        },
        "id": "ZHmdJXiT36Rj",
        "outputId": "9fcd6b96-878d-4d45-c92b-993727e39df5"
      },
      "execution_count": null,
      "outputs": [
        {
          "output_type": "stream",
          "name": "stdout",
          "text": [
            "Columns using index location method:\n",
            "    Random value 2  Random value 3\n",
            "0        0.044712        0.343304\n",
            "1        0.949338        0.157670\n",
            "2        0.487796        0.174343\n",
            "3        0.249831        0.410248\n"
          ]
        }
      ]
    }
  ]
}