{
  "nbformat": 4,
  "nbformat_minor": 0,
  "metadata": {
    "colab": {
      "provenance": []
    },
    "kernelspec": {
      "name": "python3",
      "display_name": "Python 3"
    },
    "language_info": {
      "name": "python"
    }
  },
  "cells": [
    {
      "cell_type": "markdown",
      "source": [
        "# **AI ASSIGNMENT-02**\n",
        "\n",
        "# **NAME:K.SAI ROHITH REDDY**\n",
        "\n",
        "# **REGNO:20MID0084**\n",
        "\n",
        "# **EMAIL:sairohith.reddyk2020@vitstudent.ac.in**\n",
        "\n",
        "# **CAMPUS:VIT VELLORE**"
      ],
      "metadata": {
        "id": "Y74x6F8lD0CE"
      }
    },
    {
      "cell_type": "code",
      "execution_count": 14,
      "metadata": {
        "id": "8naNkhtyDbEg"
      },
      "outputs": [],
      "source": [
        "#Importing libraries\n",
        "import pandas as pd\n",
        "import tensorflow as tf\n",
        "from tensorflow import keras\n",
        "from tensorflow.keras import Sequential\n",
        "from tensorflow.keras.layers import Flatten,Dense\n",
        "from sklearn.preprocessing import LabelEncoder, StandardScaler\n",
        "from sklearn.model_selection import train_test_split\n",
        "import numpy as np\n",
        "import seaborn as sns\n",
        "import matplotlib.pyplot as mp"
      ]
    },
    {
      "cell_type": "code",
      "source": [
        "#Load the dataset\n",
        "df = pd.read_csv('drug200.csv')"
      ],
      "metadata": {
        "id": "dMizxPn1FAYz"
      },
      "execution_count": 15,
      "outputs": []
    },
    {
      "cell_type": "code",
      "source": [
        "df.head()"
      ],
      "metadata": {
        "colab": {
          "base_uri": "https://localhost:8080/",
          "height": 206
        },
        "id": "AyEXR0m3F9g9",
        "outputId": "06baeab8-87b5-4d74-d2a9-1ebe2e0eabc4"
      },
      "execution_count": 16,
      "outputs": [
        {
          "output_type": "execute_result",
          "data": {
            "text/plain": [
              "   Age Sex      BP Cholesterol  Na_to_K   Drug\n",
              "0   23   F    HIGH        HIGH   25.355  DrugY\n",
              "1   47   M     LOW        HIGH   13.093  drugC\n",
              "2   47   M     LOW        HIGH   10.114  drugC\n",
              "3   28   F  NORMAL        HIGH    7.798  drugX\n",
              "4   61   F     LOW        HIGH   18.043  DrugY"
            ],
            "text/html": [
              "\n",
              "  <div id=\"df-0f03eb30-c95f-46ba-aa75-dd6a791cbd55\">\n",
              "    <div class=\"colab-df-container\">\n",
              "      <div>\n",
              "<style scoped>\n",
              "    .dataframe tbody tr th:only-of-type {\n",
              "        vertical-align: middle;\n",
              "    }\n",
              "\n",
              "    .dataframe tbody tr th {\n",
              "        vertical-align: top;\n",
              "    }\n",
              "\n",
              "    .dataframe thead th {\n",
              "        text-align: right;\n",
              "    }\n",
              "</style>\n",
              "<table border=\"1\" class=\"dataframe\">\n",
              "  <thead>\n",
              "    <tr style=\"text-align: right;\">\n",
              "      <th></th>\n",
              "      <th>Age</th>\n",
              "      <th>Sex</th>\n",
              "      <th>BP</th>\n",
              "      <th>Cholesterol</th>\n",
              "      <th>Na_to_K</th>\n",
              "      <th>Drug</th>\n",
              "    </tr>\n",
              "  </thead>\n",
              "  <tbody>\n",
              "    <tr>\n",
              "      <th>0</th>\n",
              "      <td>23</td>\n",
              "      <td>F</td>\n",
              "      <td>HIGH</td>\n",
              "      <td>HIGH</td>\n",
              "      <td>25.355</td>\n",
              "      <td>DrugY</td>\n",
              "    </tr>\n",
              "    <tr>\n",
              "      <th>1</th>\n",
              "      <td>47</td>\n",
              "      <td>M</td>\n",
              "      <td>LOW</td>\n",
              "      <td>HIGH</td>\n",
              "      <td>13.093</td>\n",
              "      <td>drugC</td>\n",
              "    </tr>\n",
              "    <tr>\n",
              "      <th>2</th>\n",
              "      <td>47</td>\n",
              "      <td>M</td>\n",
              "      <td>LOW</td>\n",
              "      <td>HIGH</td>\n",
              "      <td>10.114</td>\n",
              "      <td>drugC</td>\n",
              "    </tr>\n",
              "    <tr>\n",
              "      <th>3</th>\n",
              "      <td>28</td>\n",
              "      <td>F</td>\n",
              "      <td>NORMAL</td>\n",
              "      <td>HIGH</td>\n",
              "      <td>7.798</td>\n",
              "      <td>drugX</td>\n",
              "    </tr>\n",
              "    <tr>\n",
              "      <th>4</th>\n",
              "      <td>61</td>\n",
              "      <td>F</td>\n",
              "      <td>LOW</td>\n",
              "      <td>HIGH</td>\n",
              "      <td>18.043</td>\n",
              "      <td>DrugY</td>\n",
              "    </tr>\n",
              "  </tbody>\n",
              "</table>\n",
              "</div>\n",
              "      <button class=\"colab-df-convert\" onclick=\"convertToInteractive('df-0f03eb30-c95f-46ba-aa75-dd6a791cbd55')\"\n",
              "              title=\"Convert this dataframe to an interactive table.\"\n",
              "              style=\"display:none;\">\n",
              "        \n",
              "  <svg xmlns=\"http://www.w3.org/2000/svg\" height=\"24px\"viewBox=\"0 0 24 24\"\n",
              "       width=\"24px\">\n",
              "    <path d=\"M0 0h24v24H0V0z\" fill=\"none\"/>\n",
              "    <path d=\"M18.56 5.44l.94 2.06.94-2.06 2.06-.94-2.06-.94-.94-2.06-.94 2.06-2.06.94zm-11 1L8.5 8.5l.94-2.06 2.06-.94-2.06-.94L8.5 2.5l-.94 2.06-2.06.94zm10 10l.94 2.06.94-2.06 2.06-.94-2.06-.94-.94-2.06-.94 2.06-2.06.94z\"/><path d=\"M17.41 7.96l-1.37-1.37c-.4-.4-.92-.59-1.43-.59-.52 0-1.04.2-1.43.59L10.3 9.45l-7.72 7.72c-.78.78-.78 2.05 0 2.83L4 21.41c.39.39.9.59 1.41.59.51 0 1.02-.2 1.41-.59l7.78-7.78 2.81-2.81c.8-.78.8-2.07 0-2.86zM5.41 20L4 18.59l7.72-7.72 1.47 1.35L5.41 20z\"/>\n",
              "  </svg>\n",
              "      </button>\n",
              "      \n",
              "  <style>\n",
              "    .colab-df-container {\n",
              "      display:flex;\n",
              "      flex-wrap:wrap;\n",
              "      gap: 12px;\n",
              "    }\n",
              "\n",
              "    .colab-df-convert {\n",
              "      background-color: #E8F0FE;\n",
              "      border: none;\n",
              "      border-radius: 50%;\n",
              "      cursor: pointer;\n",
              "      display: none;\n",
              "      fill: #1967D2;\n",
              "      height: 32px;\n",
              "      padding: 0 0 0 0;\n",
              "      width: 32px;\n",
              "    }\n",
              "\n",
              "    .colab-df-convert:hover {\n",
              "      background-color: #E2EBFA;\n",
              "      box-shadow: 0px 1px 2px rgba(60, 64, 67, 0.3), 0px 1px 3px 1px rgba(60, 64, 67, 0.15);\n",
              "      fill: #174EA6;\n",
              "    }\n",
              "\n",
              "    [theme=dark] .colab-df-convert {\n",
              "      background-color: #3B4455;\n",
              "      fill: #D2E3FC;\n",
              "    }\n",
              "\n",
              "    [theme=dark] .colab-df-convert:hover {\n",
              "      background-color: #434B5C;\n",
              "      box-shadow: 0px 1px 3px 1px rgba(0, 0, 0, 0.15);\n",
              "      filter: drop-shadow(0px 1px 2px rgba(0, 0, 0, 0.3));\n",
              "      fill: #FFFFFF;\n",
              "    }\n",
              "  </style>\n",
              "\n",
              "      <script>\n",
              "        const buttonEl =\n",
              "          document.querySelector('#df-0f03eb30-c95f-46ba-aa75-dd6a791cbd55 button.colab-df-convert');\n",
              "        buttonEl.style.display =\n",
              "          google.colab.kernel.accessAllowed ? 'block' : 'none';\n",
              "\n",
              "        async function convertToInteractive(key) {\n",
              "          const element = document.querySelector('#df-0f03eb30-c95f-46ba-aa75-dd6a791cbd55');\n",
              "          const dataTable =\n",
              "            await google.colab.kernel.invokeFunction('convertToInteractive',\n",
              "                                                     [key], {});\n",
              "          if (!dataTable) return;\n",
              "\n",
              "          const docLinkHtml = 'Like what you see? Visit the ' +\n",
              "            '<a target=\"_blank\" href=https://colab.research.google.com/notebooks/data_table.ipynb>data table notebook</a>'\n",
              "            + ' to learn more about interactive tables.';\n",
              "          element.innerHTML = '';\n",
              "          dataTable['output_type'] = 'display_data';\n",
              "          await google.colab.output.renderOutput(dataTable, element);\n",
              "          const docLink = document.createElement('div');\n",
              "          docLink.innerHTML = docLinkHtml;\n",
              "          element.appendChild(docLink);\n",
              "        }\n",
              "      </script>\n",
              "    </div>\n",
              "  </div>\n",
              "  "
            ]
          },
          "metadata": {},
          "execution_count": 16
        }
      ]
    },
    {
      "cell_type": "code",
      "source": [
        "#checking null values\n",
        "df.isnull().sum()"
      ],
      "metadata": {
        "colab": {
          "base_uri": "https://localhost:8080/"
        },
        "id": "cNQg4Y6BFAVd",
        "outputId": "980efa65-c1eb-41a3-d65e-7365e207808c"
      },
      "execution_count": 17,
      "outputs": [
        {
          "output_type": "execute_result",
          "data": {
            "text/plain": [
              "Age            0\n",
              "Sex            0\n",
              "BP             0\n",
              "Cholesterol    0\n",
              "Na_to_K        0\n",
              "Drug           0\n",
              "dtype: int64"
            ]
          },
          "metadata": {},
          "execution_count": 17
        }
      ]
    },
    {
      "cell_type": "code",
      "source": [
        "#Dataset information\n",
        "df.info"
      ],
      "metadata": {
        "colab": {
          "base_uri": "https://localhost:8080/"
        },
        "id": "_91linjDFATN",
        "outputId": "f0188e6b-fe01-4e46-d6fc-7a51bb1829cd"
      },
      "execution_count": 18,
      "outputs": [
        {
          "output_type": "execute_result",
          "data": {
            "text/plain": [
              "<bound method DataFrame.info of      Age Sex      BP Cholesterol  Na_to_K   Drug\n",
              "0     23   F    HIGH        HIGH   25.355  DrugY\n",
              "1     47   M     LOW        HIGH   13.093  drugC\n",
              "2     47   M     LOW        HIGH   10.114  drugC\n",
              "3     28   F  NORMAL        HIGH    7.798  drugX\n",
              "4     61   F     LOW        HIGH   18.043  DrugY\n",
              "..   ...  ..     ...         ...      ...    ...\n",
              "195   56   F     LOW        HIGH   11.567  drugC\n",
              "196   16   M     LOW        HIGH   12.006  drugC\n",
              "197   52   M  NORMAL        HIGH    9.894  drugX\n",
              "198   23   M  NORMAL      NORMAL   14.020  drugX\n",
              "199   40   F     LOW      NORMAL   11.349  drugX\n",
              "\n",
              "[200 rows x 6 columns]>"
            ]
          },
          "metadata": {},
          "execution_count": 18
        }
      ]
    },
    {
      "cell_type": "code",
      "source": [
        "#statistical info\n",
        "df.describe"
      ],
      "metadata": {
        "colab": {
          "base_uri": "https://localhost:8080/"
        },
        "id": "6EzNp3SrFARN",
        "outputId": "5515506b-b93c-4104-cef2-f4a3f4c2136c"
      },
      "execution_count": 19,
      "outputs": [
        {
          "output_type": "execute_result",
          "data": {
            "text/plain": [
              "<bound method NDFrame.describe of      Age Sex      BP Cholesterol  Na_to_K   Drug\n",
              "0     23   F    HIGH        HIGH   25.355  DrugY\n",
              "1     47   M     LOW        HIGH   13.093  drugC\n",
              "2     47   M     LOW        HIGH   10.114  drugC\n",
              "3     28   F  NORMAL        HIGH    7.798  drugX\n",
              "4     61   F     LOW        HIGH   18.043  DrugY\n",
              "..   ...  ..     ...         ...      ...    ...\n",
              "195   56   F     LOW        HIGH   11.567  drugC\n",
              "196   16   M     LOW        HIGH   12.006  drugC\n",
              "197   52   M  NORMAL        HIGH    9.894  drugX\n",
              "198   23   M  NORMAL      NORMAL   14.020  drugX\n",
              "199   40   F     LOW      NORMAL   11.349  drugX\n",
              "\n",
              "[200 rows x 6 columns]>"
            ]
          },
          "metadata": {},
          "execution_count": 19
        }
      ]
    },
    {
      "cell_type": "code",
      "source": [
        "#Visualization using seaborn\n",
        "sns.countplot(x='Sex',data=df,palette='crest',hue='Sex')"
      ],
      "metadata": {
        "colab": {
          "base_uri": "https://localhost:8080/",
          "height": 466
        },
        "id": "_dLOXc8cFAOE",
        "outputId": "25b6e2e4-5437-4464-a8ad-48f5222b29db"
      },
      "execution_count": 20,
      "outputs": [
        {
          "output_type": "execute_result",
          "data": {
            "text/plain": [
              "<Axes: xlabel='Sex', ylabel='count'>"
            ]
          },
          "metadata": {},
          "execution_count": 20
        },
        {
          "output_type": "display_data",
          "data": {
            "text/plain": [
              "<Figure size 640x480 with 1 Axes>"
            ],
            "image/png": "[encoded data removed]"
          },
          "metadata": {}
        }
      ]
    },
    {
      "cell_type": "code",
      "source": [
        "sns.pairplot(data=df)"
      ],
      "metadata": {
        "colab": {
          "base_uri": "https://localhost:8080/",
          "height": 530
        },
        "id": "FW4jo0kTOF-9",
        "outputId": "e9a0b11e-9fd7-4e33-c432-e6cdac590d3e"
      },
      "execution_count": 21,
      "outputs": [
        {
          "output_type": "execute_result",
          "data": {
            "text/plain": [
              "<seaborn.axisgrid.PairGrid at 0x7f935c58bc40>"
            ]
          },
          "metadata": {},
          "execution_count": 21
        },
        {
          "output_type": "display_data",
          "data": {
            "text/plain": [
              "<Figure size 500x500 with 6 Axes>"
            ],
            "image/png": "[encoded data removed]"
          },
          "metadata": {}
        }
      ]
    },
    {
      "cell_type": "code",
      "source": [
        "sns.countplot(x='Drug',data=df,hue='Drug')"
      ],
      "metadata": {
        "colab": {
          "base_uri": "https://localhost:8080/",
          "height": 466
        },
        "id": "EpL9vx8uFALm",
        "outputId": "c97202e7-e2f7-4b4d-cfaf-510983e0b650"
      },
      "execution_count": 22,
      "outputs": [
        {
          "output_type": "execute_result",
          "data": {
            "text/plain": [
              "<Axes: xlabel='Drug', ylabel='count'>"
            ]
          },
          "metadata": {},
          "execution_count": 22
        },
        {
          "output_type": "display_data",
          "data": {
            "text/plain": [
              "<Figure size 640x480 with 1 Axes>"
            ],
            "image/png": "[encoded data removed]"
          },
          "metadata": {}
        }
      ]
    },
    {
      "cell_type": "code",
      "source": [
        "sns.histplot(x='Na_to_K',data=df)"
      ],
      "metadata": {
        "colab": {
          "base_uri": "https://localhost:8080/",
          "height": 466
        },
        "id": "IDROXvFdFAJu",
        "outputId": "9f8cbf4e-c108-460f-8abf-0e490d2ddaf0"
      },
      "execution_count": 23,
      "outputs": [
        {
          "output_type": "execute_result",
          "data": {
            "text/plain": [
              "<Axes: xlabel='Na_to_K', ylabel='Count'>"
            ]
          },
          "metadata": {},
          "execution_count": 23
        },
        {
          "output_type": "display_data",
          "data": {
            "text/plain": [
              "<Figure size 640x480 with 1 Axes>"
            ],
            "image/png": "[encoded data removed]"
          },
          "metadata": {}
        }
      ]
    },
    {
      "cell_type": "code",
      "source": [
        "#splitting data into the train & test\n",
        "X = df.drop(columns = ['Drug'],axis=1)\n",
        "Y = df['Drug']"
      ],
      "metadata": {
        "id": "y2cuEf6UFAGv"
      },
      "execution_count": 24,
      "outputs": []
    },
    {
      "cell_type": "code",
      "source": [
        "#Drug column is the output(target) column in this dataset.\n",
        "Y_class = len(np.unique(Y))\n",
        "print(Y_class)"
      ],
      "metadata": {
        "colab": {
          "base_uri": "https://localhost:8080/"
        },
        "id": "fFMM31kkFAD2",
        "outputId": "643573ed-efae-416c-d1be-472a6f731cd2"
      },
      "execution_count": 25,
      "outputs": [
        {
          "output_type": "stream",
          "name": "stdout",
          "text": [
            "5\n"
          ]
        }
      ]
    },
    {
      "cell_type": "code",
      "source": [
        "#Convert the Categorical data into interger data\n",
        "X = pd.get_dummies(X,columns=['Sex','BP','Cholesterol'],drop_first = True)\n",
        "LE = LabelEncoder()\n",
        "Y = LE.fit_transform(Y)"
      ],
      "metadata": {
        "id": "lB_mm05RFABW"
      },
      "execution_count": 26,
      "outputs": []
    },
    {
      "cell_type": "code",
      "source": [
        "X_train, X_test, Y_train, Y_test = train_test_split (X,Y,test_size=0.3,random_state=42)"
      ],
      "metadata": {
        "id": "qrFwITOFE_-s"
      },
      "execution_count": 27,
      "outputs": []
    },
    {
      "cell_type": "code",
      "source": [
        "#feature scaling\n",
        "from sklearn.preprocessing import StandardScaler\n",
        "sc = StandardScaler()\n",
        "X_train = sc.fit_transform(X_train)\n",
        "X_test = sc.fit_transform(X_test)"
      ],
      "metadata": {
        "id": "Mh6yeFrXHksi"
      },
      "execution_count": 28,
      "outputs": []
    },
    {
      "cell_type": "code",
      "source": [
        "Y_train = keras.utils.to_categorical(Y_train)\n",
        "Y_test = keras.utils.to_categorical(Y_test)"
      ],
      "metadata": {
        "id": "zdGR2zz-HkpE"
      },
      "execution_count": 29,
      "outputs": []
    },
    {
      "cell_type": "code",
      "source": [
        "#task-02:Build the ANN model with (input layer, min 3 hidden layers & output layer)\n",
        "#Creating a ann model\n",
        "model = Sequential()\n",
        "#input layer\n",
        "model.add(Dense(48, input_dim=6, activation='relu'))\n",
        "#adding hidden layer-01\n",
        "model.add(Dense(36, activation='relu'))\n",
        "#adding hidden layer-02\n",
        "model.add(Dense(24, activation='relu'))\n",
        "#adding hidden layer-03\n",
        "model.add(Dense(12, activation='relu'))\n",
        "#output-layer\n",
        "output_layer = Dense(Y_class,activation='softmax')\n",
        "model.add(output_layer)"
      ],
      "metadata": {
        "id": "TOxJSQh9HklG"
      },
      "execution_count": 30,
      "outputs": []
    },
    {
      "cell_type": "code",
      "source": [
        "model.summary()\n"
      ],
      "metadata": {
        "colab": {
          "base_uri": "https://localhost:8080/"
        },
        "id": "f8nCfrEsHkiD",
        "outputId": "419aa768-a2b0-4f4e-9578-6394f7364a04"
      },
      "execution_count": 31,
      "outputs": [
        {
          "output_type": "stream",
          "name": "stdout",
          "text": [
            "Model: \"sequential\"\n",
            "_________________________________________________________________\n",
            " Layer (type)                Output Shape              Param #   \n",
            "=================================================================\n",
            " dense (Dense)               (None, 48)                336       \n",
            "                                                                 \n",
            " dense_1 (Dense)             (None, 36)                1764      \n",
            "                                                                 \n",
            " dense_2 (Dense)             (None, 24)                888       \n",
            "                                                                 \n",
            " dense_3 (Dense)             (None, 12)                300       \n",
            "                                                                 \n",
            " dense_4 (Dense)             (None, 5)                 65        \n",
            "                                                                 \n",
            "=================================================================\n",
            "Total params: 3,353\n",
            "Trainable params: 3,353\n",
            "Non-trainable params: 0\n",
            "_________________________________________________________________\n"
          ]
        }
      ]
    },
    {
      "cell_type": "code",
      "source": [
        "#compiling the model\n",
        "model.compile(loss='categorical_crossentropy', optimizer='adam', metrics=['accuracy'])"
      ],
      "metadata": {
        "id": "d5L5arZ2HkfP"
      },
      "execution_count": 32,
      "outputs": []
    },
    {
      "cell_type": "code",
      "source": [
        "model.fit(X_train,Y_train,epochs=40,batch_size=6)\n"
      ],
      "metadata": {
        "colab": {
          "base_uri": "https://localhost:8080/"
        },
        "id": "CGU-U5aXHkcs",
        "outputId": "18e5d741-8fb9-400f-df08-82187cbb3809"
      },
      "execution_count": 33,
      "outputs": [
        {
          "output_type": "stream",
          "name": "stdout",
          "text": [
            "Epoch 1/40\n",
            "24/24 [==============================] - 1s 4ms/step - loss: 1.5750 - accuracy: 0.2000\n",
            "Epoch 2/40\n",
            "24/24 [==============================] - 0s 3ms/step - loss: 1.4707 - accuracy: 0.4143\n",
            "Epoch 3/40\n",
            "24/24 [==============================] - 0s 3ms/step - loss: 1.3384 - accuracy: 0.4786\n",
            "Epoch 4/40\n",
            "24/24 [==============================] - 0s 3ms/step - loss: 1.1102 - accuracy: 0.4929\n",
            "Epoch 5/40\n",
            "24/24 [==============================] - 0s 3ms/step - loss: 0.9268 - accuracy: 0.5786\n",
            "Epoch 6/40\n",
            "24/24 [==============================] - 0s 3ms/step - loss: 0.7741 - accuracy: 0.6857\n",
            "Epoch 7/40\n",
            "24/24 [==============================] - 0s 3ms/step - loss: 0.6247 - accuracy: 0.8429\n",
            "Epoch 8/40\n",
            "24/24 [==============================] - 0s 3ms/step - loss: 0.5044 - accuracy: 0.8714\n",
            "Epoch 9/40\n",
            "24/24 [==============================] - 0s 3ms/step - loss: 0.4105 - accuracy: 0.8786\n",
            "Epoch 10/40\n",
            "24/24 [==============================] - 0s 3ms/step - loss: 0.3443 - accuracy: 0.8929\n",
            "Epoch 11/40\n",
            "24/24 [==============================] - 0s 3ms/step - loss: 0.2840 - accuracy: 0.9000\n",
            "Epoch 12/40\n",
            "24/24 [==============================] - 0s 3ms/step - loss: 0.2365 - accuracy: 0.9143\n",
            "Epoch 13/40\n",
            "24/24 [==============================] - 0s 3ms/step - loss: 0.1975 - accuracy: 0.9571\n",
            "Epoch 14/40\n",
            "24/24 [==============================] - 0s 3ms/step - loss: 0.1666 - accuracy: 0.9714\n",
            "Epoch 15/40\n",
            "24/24 [==============================] - 0s 4ms/step - loss: 0.1446 - accuracy: 0.9786\n",
            "Epoch 16/40\n",
            "24/24 [==============================] - 0s 3ms/step - loss: 0.1215 - accuracy: 0.9857\n",
            "Epoch 17/40\n",
            "24/24 [==============================] - 0s 3ms/step - loss: 0.0993 - accuracy: 0.9929\n",
            "Epoch 18/40\n",
            "24/24 [==============================] - 0s 3ms/step - loss: 0.0828 - accuracy: 1.0000\n",
            "Epoch 19/40\n",
            "24/24 [==============================] - 0s 3ms/step - loss: 0.0685 - accuracy: 0.9929\n",
            "Epoch 20/40\n",
            "24/24 [==============================] - 0s 3ms/step - loss: 0.0549 - accuracy: 1.0000\n",
            "Epoch 21/40\n",
            "24/24 [==============================] - 0s 3ms/step - loss: 0.0478 - accuracy: 0.9929\n",
            "Epoch 22/40\n",
            "24/24 [==============================] - 0s 3ms/step - loss: 0.0533 - accuracy: 0.9929\n",
            "Epoch 23/40\n",
            "24/24 [==============================] - 0s 3ms/step - loss: 0.0456 - accuracy: 0.9929\n",
            "Epoch 24/40\n",
            "24/24 [==============================] - 0s 3ms/step - loss: 0.0379 - accuracy: 0.9929\n",
            "Epoch 25/40\n",
            "24/24 [==============================] - 0s 3ms/step - loss: 0.0399 - accuracy: 0.9857\n",
            "Epoch 26/40\n",
            "24/24 [==============================] - 0s 3ms/step - loss: 0.0332 - accuracy: 1.0000\n",
            "Epoch 27/40\n",
            "24/24 [==============================] - 0s 3ms/step - loss: 0.0270 - accuracy: 1.0000\n",
            "Epoch 28/40\n",
            "24/24 [==============================] - 0s 3ms/step - loss: 0.0254 - accuracy: 1.0000\n",
            "Epoch 29/40\n",
            "24/24 [==============================] - 0s 3ms/step - loss: 0.0240 - accuracy: 1.0000\n",
            "Epoch 30/40\n",
            "24/24 [==============================] - 0s 3ms/step - loss: 0.0218 - accuracy: 1.0000\n",
            "Epoch 31/40\n",
            "24/24 [==============================] - 0s 3ms/step - loss: 0.0201 - accuracy: 1.0000\n",
            "Epoch 32/40\n",
            "24/24 [==============================] - 0s 3ms/step - loss: 0.0219 - accuracy: 0.9929\n",
            "Epoch 33/40\n",
            "24/24 [==============================] - 0s 3ms/step - loss: 0.0289 - accuracy: 0.9929\n",
            "Epoch 34/40\n",
            "24/24 [==============================] - 0s 3ms/step - loss: 0.0311 - accuracy: 0.9929\n",
            "Epoch 35/40\n",
            "24/24 [==============================] - 0s 3ms/step - loss: 0.0169 - accuracy: 1.0000\n",
            "Epoch 36/40\n",
            "24/24 [==============================] - 0s 3ms/step - loss: 0.0148 - accuracy: 1.0000\n",
            "Epoch 37/40\n",
            "24/24 [==============================] - 0s 3ms/step - loss: 0.0134 - accuracy: 1.0000\n",
            "Epoch 38/40\n",
            "24/24 [==============================] - 0s 3ms/step - loss: 0.0135 - accuracy: 1.0000\n",
            "Epoch 39/40\n",
            "24/24 [==============================] - 0s 3ms/step - loss: 0.0134 - accuracy: 1.0000\n",
            "Epoch 40/40\n",
            "24/24 [==============================] - 0s 3ms/step - loss: 0.0124 - accuracy: 1.0000\n"
          ]
        },
        {
          "output_type": "execute_result",
          "data": {
            "text/plain": [
              "<keras.callbacks.History at 0x7f935c1eb1c0>"
            ]
          },
          "metadata": {},
          "execution_count": 33
        }
      ]
    },
    {
      "cell_type": "code",
      "source": [
        "#evaluation and testing with data\n",
        "test_loss, test_acc = model.evaluate(X_test, Y_test)\n",
        "print('Test accuracy:', test_acc * 100)"
      ],
      "metadata": {
        "colab": {
          "base_uri": "https://localhost:8080/"
        },
        "id": "uj-1nTD-Hkam",
        "outputId": "728fbaab-a07a-4577-8a5b-94924754df73"
      },
      "execution_count": 34,
      "outputs": [
        {
          "output_type": "stream",
          "name": "stdout",
          "text": [
            "2/2 [==============================] - 0s 9ms/step - loss: 0.2167 - accuracy: 0.9333\n",
            "Test accuracy: 93.33333373069763\n"
          ]
        }
      ]
    }
  ]
}